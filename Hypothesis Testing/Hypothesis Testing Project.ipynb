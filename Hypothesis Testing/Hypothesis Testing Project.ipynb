{
 "cells": [
  {
   "cell_type": "code",
   "execution_count": 14,
   "id": "2ced2f7c",
   "metadata": {},
   "outputs": [],
   "source": [
    "import pandas as pd\n",
    "import seaborn as sns\n",
    "import matplotlib.pyplot as plt\n",
    "from scipy.stats import ttest_ind\n",
    "from scipy.stats import pearsonr\n",
    "import statsmodels.api as sm\n",
    "from scipy.stats import f_oneway"
   ]
  },
  {
   "cell_type": "code",
   "execution_count": 15,
   "id": "d2368696",
   "metadata": {},
   "outputs": [],
   "source": [
    "df1 = pd.read_csv(r'C:\\Aditya Lenovo\\Data Science\\Dataset\\hospitalization_data.csv')"
   ]
  },
  {
   "cell_type": "code",
   "execution_count": 16,
   "id": "148e9e45",
   "metadata": {},
   "outputs": [
    {
     "data": {
      "text/html": [
       "<div>\n",
       "<style scoped>\n",
       "    .dataframe tbody tr th:only-of-type {\n",
       "        vertical-align: middle;\n",
       "    }\n",
       "\n",
       "    .dataframe tbody tr th {\n",
       "        vertical-align: top;\n",
       "    }\n",
       "\n",
       "    .dataframe thead th {\n",
       "        text-align: right;\n",
       "    }\n",
       "</style>\n",
       "<table border=\"1\" class=\"dataframe\">\n",
       "  <thead>\n",
       "    <tr style=\"text-align: right;\">\n",
       "      <th></th>\n",
       "      <th>age</th>\n",
       "      <th>sex</th>\n",
       "      <th>smoker</th>\n",
       "      <th>region</th>\n",
       "      <th>viral_load</th>\n",
       "      <th>severity_level</th>\n",
       "      <th>hospitalization_charges</th>\n",
       "    </tr>\n",
       "  </thead>\n",
       "  <tbody>\n",
       "    <tr>\n",
       "      <th>0</th>\n",
       "      <td>56</td>\n",
       "      <td>male</td>\n",
       "      <td>no</td>\n",
       "      <td>northwest</td>\n",
       "      <td>7214</td>\n",
       "      <td>4</td>\n",
       "      <td>18004.08</td>\n",
       "    </tr>\n",
       "    <tr>\n",
       "      <th>1</th>\n",
       "      <td>46</td>\n",
       "      <td>male</td>\n",
       "      <td>yes</td>\n",
       "      <td>northeast</td>\n",
       "      <td>7070</td>\n",
       "      <td>1</td>\n",
       "      <td>16622.16</td>\n",
       "    </tr>\n",
       "    <tr>\n",
       "      <th>2</th>\n",
       "      <td>32</td>\n",
       "      <td>male</td>\n",
       "      <td>no</td>\n",
       "      <td>southwest</td>\n",
       "      <td>4061</td>\n",
       "      <td>4</td>\n",
       "      <td>15479.28</td>\n",
       "    </tr>\n",
       "    <tr>\n",
       "      <th>3</th>\n",
       "      <td>60</td>\n",
       "      <td>male</td>\n",
       "      <td>no</td>\n",
       "      <td>northeast</td>\n",
       "      <td>5593</td>\n",
       "      <td>5</td>\n",
       "      <td>16766.87</td>\n",
       "    </tr>\n",
       "    <tr>\n",
       "      <th>4</th>\n",
       "      <td>25</td>\n",
       "      <td>male</td>\n",
       "      <td>yes</td>\n",
       "      <td>northeast</td>\n",
       "      <td>5741</td>\n",
       "      <td>4</td>\n",
       "      <td>18716.03</td>\n",
       "    </tr>\n",
       "    <tr>\n",
       "      <th>5</th>\n",
       "      <td>38</td>\n",
       "      <td>female</td>\n",
       "      <td>yes</td>\n",
       "      <td>northwest</td>\n",
       "      <td>5391</td>\n",
       "      <td>2</td>\n",
       "      <td>15126.07</td>\n",
       "    </tr>\n",
       "    <tr>\n",
       "      <th>6</th>\n",
       "      <td>56</td>\n",
       "      <td>male</td>\n",
       "      <td>no</td>\n",
       "      <td>southeast</td>\n",
       "      <td>4174</td>\n",
       "      <td>4</td>\n",
       "      <td>12737.47</td>\n",
       "    </tr>\n",
       "    <tr>\n",
       "      <th>7</th>\n",
       "      <td>36</td>\n",
       "      <td>male</td>\n",
       "      <td>no</td>\n",
       "      <td>northeast</td>\n",
       "      <td>3992</td>\n",
       "      <td>3</td>\n",
       "      <td>13330.50</td>\n",
       "    </tr>\n",
       "    <tr>\n",
       "      <th>8</th>\n",
       "      <td>40</td>\n",
       "      <td>male</td>\n",
       "      <td>yes</td>\n",
       "      <td>southeast</td>\n",
       "      <td>4961</td>\n",
       "      <td>4</td>\n",
       "      <td>18916.93</td>\n",
       "    </tr>\n",
       "    <tr>\n",
       "      <th>9</th>\n",
       "      <td>28</td>\n",
       "      <td>female</td>\n",
       "      <td>yes</td>\n",
       "      <td>southwest</td>\n",
       "      <td>6759</td>\n",
       "      <td>2</td>\n",
       "      <td>16705.84</td>\n",
       "    </tr>\n",
       "  </tbody>\n",
       "</table>\n",
       "</div>"
      ],
      "text/plain": [
       "   age     sex smoker     region  viral_load  severity_level  \\\n",
       "0   56    male     no  northwest        7214               4   \n",
       "1   46    male    yes  northeast        7070               1   \n",
       "2   32    male     no  southwest        4061               4   \n",
       "3   60    male     no  northeast        5593               5   \n",
       "4   25    male    yes  northeast        5741               4   \n",
       "5   38  female    yes  northwest        5391               2   \n",
       "6   56    male     no  southeast        4174               4   \n",
       "7   36    male     no  northeast        3992               3   \n",
       "8   40    male    yes  southeast        4961               4   \n",
       "9   28  female    yes  southwest        6759               2   \n",
       "\n",
       "   hospitalization_charges  \n",
       "0                 18004.08  \n",
       "1                 16622.16  \n",
       "2                 15479.28  \n",
       "3                 16766.87  \n",
       "4                 18716.03  \n",
       "5                 15126.07  \n",
       "6                 12737.47  \n",
       "7                 13330.50  \n",
       "8                 18916.93  \n",
       "9                 16705.84  "
      ]
     },
     "execution_count": 16,
     "metadata": {},
     "output_type": "execute_result"
    }
   ],
   "source": [
    "df1.head(10)"
   ]
  },
  {
   "cell_type": "markdown",
   "id": "c6f0ff1e",
   "metadata": {},
   "source": [
    "Variables for predicting the reason for hospitalization are - age, smoker, viral_load,serverity_level"
   ]
  },
  {
   "cell_type": "code",
   "execution_count": 17,
   "id": "47e6f81b",
   "metadata": {},
   "outputs": [
    {
     "name": "stdout",
     "output_type": "stream",
     "text": [
      "F-statistic: 0.886, p-value: 0.448\n"
     ]
    }
   ],
   "source": [
    "# Group charges by region\n",
    "northeast = df1[df1['region'] == 'northeast']['hospitalization_charges']\n",
    "northwest = df1[df1['region'] == 'northwest']['hospitalization_charges']\n",
    "southeast = df1[df1['region'] == 'southeast']['hospitalization_charges']\n",
    "southwest = df1[df1['region'] == 'southwest']['hospitalization_charges']\n",
    "\n",
    "# Run ANOVA test\n",
    "f_stat, p_val = f_oneway(northeast, northwest, southeast, southwest)\n",
    "\n",
    "print(f\"F-statistic: {f_stat:.3f}, p-value: {p_val:.3f}\")"
   ]
  },
  {
   "cell_type": "markdown",
   "id": "aec387b5",
   "metadata": {},
   "source": [
    "An ANOVA test was performed to compare hospitalization charges across different regions. The result was not statistically significant (F = 0.886, p = 0.448), indicating that regional location does not appear to have a significant impact on hospitalization charges."
   ]
  },
  {
   "cell_type": "markdown",
   "id": "9fcf8c52",
   "metadata": {},
   "source": [
    "We wanted to find the relationship between the variables \"age\" and \"hospitalization_charges\". When the data was visualized using Seaborn and Matplotlib libraries, the plot was very difficult to interpret. Hence, we went with the Statistical way to determine the relationship. "
   ]
  },
  {
   "cell_type": "code",
   "execution_count": 18,
   "id": "7423ffde",
   "metadata": {},
   "outputs": [
    {
     "name": "stdout",
     "output_type": "stream",
     "text": [
      "Pearson Correlation: 0.038, p-value: 0.401\n"
     ]
    }
   ],
   "source": [
    "corr, p_value = pearsonr(df1['age'], df1['hospitalization_charges'])\n",
    "print(f\"Pearson Correlation: {corr:.3f}, p-value: {p_value:.3f}\")"
   ]
  },
  {
   "cell_type": "markdown",
   "id": "9e87949f",
   "metadata": {},
   "source": [
    "After using the Pearson Correlation Coefficient Test, we found that the Pearson correlation is 0.038, which is very close to 0, indicating almost no linear relationship between \"age\" and \"hospitalization_charges\".\n",
    "Furthermore, the p-value is 0.4, which means there is a 40% chance that this weak correlation could have occurred randomly, even if there were no actual relationship between the two variables.\n",
    "Since the p-value is much higher than the commonly used threshold of 0.05, we do not have enough statistical evidence to reject the null hypothesis.\n",
    "As a result, we can confidently conclude that there is no significant relationship between \"age\" and \"hospitalization_charges\"."
   ]
  },
  {
   "cell_type": "code",
   "execution_count": 19,
   "id": "7ef91145",
   "metadata": {},
   "outputs": [
    {
     "data": {
      "image/png": "[encoded data removed]",
      "text/plain": [
       "<Figure size 640x480 with 1 Axes>"
      ]
     },
     "metadata": {},
     "output_type": "display_data"
    }
   ],
   "source": [
    "ax = sns.barplot(x='smoker', y='hospitalization_charges', data=df1)\n",
    "plt.title(\"Hospital Charges by Smoking Status\")\n",
    "\n",
    "for container in ax.containers:\n",
    "    ax.bar_label(container, fmt='%.0f', label_type='edge', padding=7)\n",
    "\n",
    "plt.show()"
   ]
  },
  {
   "cell_type": "markdown",
   "id": "6d1aac68",
   "metadata": {},
   "source": [
    "The barplot comparing hospitalization charges by smoking status shows that smokers have higher average hospitalization charges than non-smokers.\n",
    "This visual trend suggests a positive association between smoking and increased hospitalization_charges."
   ]
  },
  {
   "cell_type": "code",
   "execution_count": 20,
   "id": "3b730417",
   "metadata": {},
   "outputs": [
    {
     "name": "stdout",
     "output_type": "stream",
     "text": [
      "Smokers: 165, Non-smokers: 335\n",
      "T-statistic: 8.860, p-value: 0.000\n"
     ]
    }
   ],
   "source": [
    "group1 = df1[df1['smoker'] == 'yes']['hospitalization_charges']\n",
    "group2 = df1[df1['smoker'] == 'no']['hospitalization_charges']\n",
    "print(f\"Smokers: {len(group1)}, Non-smokers: {len(group2)}\")\n",
    "\n",
    "t_stat, p_val = ttest_ind(group1, group2, equal_var=False)\n",
    "print(f\"T-statistic: {t_stat:.3f}, p-value: {p_val:.3f}\")"
   ]
  },
  {
   "cell_type": "markdown",
   "id": "f69a61e0",
   "metadata": {},
   "source": [
    "Based on the independent samples t-test, the mean hospitalization charges for smokers (n = 165) and non-smokers (n = 335) were compared.\n",
    "The test yielded a t-statistic of 8.860 and a p-value of 0.000, indicating that the difference in hospitalization charges between the two groups is statistically significant (p < 0.05).\n",
    "Therefore, we conclude that smokers incur significantly higher hospitalization charges compared to non-smokers."
   ]
  },
  {
   "cell_type": "code",
   "execution_count": 21,
   "id": "adc27bb2",
   "metadata": {},
   "outputs": [
    {
     "name": "stdout",
     "output_type": "stream",
     "text": [
      "Pearson Correlation: 0.186, p-value: 0.000\n"
     ]
    }
   ],
   "source": [
    "corr, p_value = pearsonr(df1['viral_load'], df1['hospitalization_charges'])\n",
    "print(f\"Pearson Correlation: {corr:.3f}, p-value: {p_value:.3f}\")"
   ]
  },
  {
   "cell_type": "markdown",
   "id": "2c3eaad2",
   "metadata": {},
   "source": [
    "The Pearson correlation coefficient between viral load and hospitalization charges is 0.186, with a p-value of 0.000.\n",
    "This indicates a very weak positive linear relationship between viral load and hospitalization charges.\n",
    "However, since the p-value is less than 0.05, the correlation is statistically significant, suggesting that as viral load increases, hospitalization charges tend to increase slightly."
   ]
  },
  {
   "cell_type": "code",
   "execution_count": 22,
   "id": "1d063cee",
   "metadata": {},
   "outputs": [
    {
     "name": "stdout",
     "output_type": "stream",
     "text": [
      "Pearson Correlation: 0.819, p-value: 0.000\n"
     ]
    }
   ],
   "source": [
    "corr, p_value = pearsonr(df1['severity_level'], df1['hospitalization_charges'])\n",
    "print(f\"Pearson Correlation: {corr:.3f}, p-value: {p_value:.3f}\")"
   ]
  },
  {
   "cell_type": "markdown",
   "id": "c7062407",
   "metadata": {},
   "source": [
    "The Pearson correlation coefficient between severity level and hospitalization charges is 0.819, with a p-value of 0.000.\n",
    "This indicates a strong positive linear relationship between the two variables.\n",
    "Since the p-value is less than 0.05, the correlation is statistically significant, meaning that as severity level increases, hospitalization charges tend to increase significantly."
   ]
  },
  {
   "cell_type": "code",
   "execution_count": 23,
   "id": "4e9af885",
   "metadata": {},
   "outputs": [
    {
     "data": {
      "image/png": "[encoded data removed]",
      "text/plain": [
       "<Figure size 640x480 with 1 Axes>"
      ]
     },
     "metadata": {},
     "output_type": "display_data"
    }
   ],
   "source": [
    "ax = sns.barplot(x='sex', y='hospitalization_charges', data=df1)\n",
    "plt.title(\"Hospital Charges by Smoking Status\")\n",
    "\n",
    "for container in ax.containers:\n",
    "    ax.bar_label(container, fmt='%.0f', label_type='edge', padding=7)\n",
    "\n",
    "plt.show()"
   ]
  },
  {
   "cell_type": "code",
   "execution_count": 24,
   "id": "71fa1f16",
   "metadata": {},
   "outputs": [
    {
     "name": "stdout",
     "output_type": "stream",
     "text": [
      "Male: 271, Female: 229\n",
      "T-statistic: -0.583, p-value: 0.560\n"
     ]
    }
   ],
   "source": [
    "group1 = df1[df1['sex'] == 'male']['hospitalization_charges']\n",
    "group2 = df1[df1['sex'] == 'female']['hospitalization_charges']\n",
    "print(f\"Male: {len(group1)}, Female: {len(group2)}\")\n",
    "\n",
    "t_stat, p_val = ttest_ind(group1, group2, equal_var=False)\n",
    "print(f\"T-statistic: {t_stat:.3f}, p-value: {p_val:.3f}\")"
   ]
  },
  {
   "cell_type": "markdown",
   "id": "d4677e33",
   "metadata": {},
   "source": [
    "An independent t-test was conducted to compare hospitalization charges between male and female patients. The results showed no statistically significant difference between the two groups (t = -0.583, p = 0.560). Thus, gender does not appear to be a key factor influencing hospitalization charges."
   ]
  },
  {
   "cell_type": "code",
   "execution_count": null,
   "id": "0535d0eb",
   "metadata": {},
   "outputs": [
    {
     "name": "stderr",
     "output_type": "stream",
     "text": [
      "C:\\Users\\LOQ\\AppData\\Local\\Temp\\ipykernel_23648\\2584635672.py:19: FutureWarning: \n",
      "\n",
      "Passing `palette` without assigning `hue` is deprecated and will be removed in v0.14.0. Assign the `x` variable to `hue` and set `legend=False` for the same effect.\n",
      "\n",
      "  ax = sns.barplot(data=influence_df, x='Variable', y='Influence', palette='coolwarm')\n"
     ]
    },
    {
     "data": {
      "image/png": "[encoded data removed]",
      "text/plain": [
       "<Figure size 1000x600 with 1 Axes>"
      ]
     },
     "metadata": {},
     "output_type": "display_data"
    }
   ],
   "source": [
    "influences = {}\n",
    "\n",
    "# Numeric variables — use absolute Pearson correlation\n",
    "numeric_vars = ['age', 'viral_load', 'severity_level']\n",
    "for var in numeric_vars:\n",
    "    corr, _ = pearsonr(df1[var], df1['hospitalization_charges'])\n",
    "    influences[var] = abs(corr)  # absolute correlation\n",
    "\n",
    "# Categorical variables — use normalized range of group means\n",
    "categorical_vars = ['sex', 'smoker', 'region']\n",
    "for var in categorical_vars:\n",
    "    group_means = df1.groupby(var)['hospitalization_charges'].mean()\n",
    "    influence = group_means.max() - group_means.min()\n",
    "    influences[var] = influence / df1['hospitalization_charges'].max()  # normalize\n",
    "\n",
    "influence_df = pd.DataFrame(list(influences.items()), columns=['Variable', 'Influence'])\n",
    "\n",
    "plt.figure(figsize=(10, 6))\n",
    "ax = sns.barplot(data=influence_df, x='Variable', y='Influence', palette='coolwarm')\n",
    "plt.title('Influence of Variables on Hospitalization Charges')\n",
    "plt.ylabel('Influence (normalized or correlation)')\n",
    "plt.xlabel('Variables')\n",
    "plt.ylim(0, 1)\n",
    "plt.grid(axis='y')\n",
    "\n",
    "for container in ax.containers:\n",
    "    ax.bar_label(container, fmt='%.2f', padding=3)\n",
    "\n",
    "plt.tight_layout()\n",
    "plt.show()"
   ]
  },
  {
   "cell_type": "markdown",
   "id": "d85af556",
   "metadata": {},
   "source": [
    "From the above bargraph it is evident that \"severity_level\" was the reason people were being hospitalized, followed by \"viral_load\" and \"smoker\"."
   ]
  }
 ],
 "metadata": {
  "kernelspec": {
   "display_name": "Python 3",
   "language": "python",
   "name": "python3"
  },
  "language_info": {
   "codemirror_mode": {
    "name": "ipython",
    "version": 3
   },
   "file_extension": ".py",
   "mimetype": "text/x-python",
   "name": "python",
   "nbconvert_exporter": "python",
   "pygments_lexer": "ipython3",
   "version": "3.13.5"
  }
 },
 "nbformat": 4,
 "nbformat_minor": 5
}
